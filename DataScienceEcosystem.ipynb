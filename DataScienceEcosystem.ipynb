{
 "cells": [
  {
   "cell_type": "markdown",
   "id": "d280a1f2-0f0d-43ab-a105-ab757806ebfa",
   "metadata": {},
   "source": [
    "# Data Science Tools and Ecosystem"
   ]
  },
  {
   "cell_type": "markdown",
   "id": "f51dccd1-adee-4ad3-9735-5e8acf0446d0",
   "metadata": {},
   "source": [
    "## Author:\n",
    "Guy Amit"
   ]
  },
  {
   "cell_type": "markdown",
   "id": "9b6a428d-220d-4470-b092-633117e81270",
   "metadata": {},
   "source": [
    "In this notebook, Data Science Tools and Ecosystem are summerized"
   ]
  },
  {
   "cell_type": "markdown",
   "id": "eec2be6d-a131-4451-84c1-f45e798e3d53",
   "metadata": {},
   "source": [
    "**Objectives:**\n",
    "* List popular languages for data science\n",
    "* List commonly used libraries by Data Scientists\n",
    "* Creating a table with content\n",
    "* Multiplying and adding numbers\n",
    "* Dividing numbers"
   ]
  },
  {
   "cell_type": "markdown",
   "id": "a4f3c6f5-9995-49ae-956e-0a4765b01ae1",
   "metadata": {},
   "source": [
    "Some of the popular languages that Data Scientists use are:\n",
    "1. Python\n",
    "2. SQL\n",
    "3. R"
   ]
  },
  {
   "cell_type": "markdown",
   "id": "80b76bd3-888d-4ea3-b5c2-3eda4928e3f2",
   "metadata": {},
   "source": [
    "Some of the commonly used libraries used by Data Scientists include:\n",
    "* NumPy\n",
    "* Pandas\n",
    "* TensorFlow"
   ]
  },
  {
   "cell_type": "markdown",
   "id": "aa6c8b4a-f6b3-403f-a77b-4d82e41f29a2",
   "metadata": {},
   "source": [
    "| Data Science Tools |\n",
    "| ------------------ |\n",
    "| Jupyter Notebook |\n",
    "| Apache Hadoop |\n",
    "| H2O.ai |"
   ]
  },
  {
   "cell_type": "markdown",
   "id": "8671dd67-9306-4455-a3c7-8e9739991608",
   "metadata": {},
   "source": [
    "### Below are a few examples of evaluating arithmetic expressions in Python"
   ]
  },
  {
   "cell_type": "code",
   "execution_count": 7,
   "id": "29831540-3f9f-4983-90c8-8cd07d973b01",
   "metadata": {},
   "outputs": [
    {
     "data": {
      "text/plain": [
       "17"
      ]
     },
     "execution_count": 7,
     "metadata": {},
     "output_type": "execute_result"
    }
   ],
   "source": [
    "# This is a simple arithmetic expression to multiply then odd integers\n",
    "(3 * 4) + 5"
   ]
  },
  {
   "cell_type": "code",
   "execution_count": 9,
   "id": "21a96132-1a6c-4869-a773-cad69350ca9e",
   "metadata": {},
   "outputs": [
    {
     "data": {
      "text/plain": [
       "3.3333333333333335"
      ]
     },
     "execution_count": 9,
     "metadata": {},
     "output_type": "execute_result"
    }
   ],
   "source": [
    "# This will convert 200 minutes to hours by dividing by 60\n",
    "200 / 60"
   ]
  }
 ],
 "metadata": {
  "kernelspec": {
   "display_name": "Python 3 (ipykernel)",
   "language": "python",
   "name": "python3"
  },
  "language_info": {
   "codemirror_mode": {
    "name": "ipython",
    "version": 3
   },
   "file_extension": ".py",
   "mimetype": "text/x-python",
   "name": "python",
   "nbconvert_exporter": "python",
   "pygments_lexer": "ipython3",
   "version": "3.12.4"
  }
 },
 "nbformat": 4,
 "nbformat_minor": 5
}
